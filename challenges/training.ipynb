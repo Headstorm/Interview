{
 "cells": [
  {
   "cell_type": "markdown",
   "metadata": {},
   "source": [
    "##  Training Data"
   ]
  },
  {
   "cell_type": "code",
   "execution_count": 34,
   "metadata": {},
   "outputs": [],
   "source": [
    "from sklearn.model_selection import train_test_split\n",
    "from sklearn.metrics import accuracy_score\n",
    "from sklearn.metrics import confusion_matrix\n",
    "from sklearn.ensemble import RandomForestClassifier\n",
    "from sklearn.model_selection import RandomizedSearchCV\n",
    "from sklearn.neural_network import MLPClassifier\n",
    "from sklearn.tree import DecisionTreeClassifier\n",
    "\n",
    "\n",
    "import numpy as np\n",
    "import pandas as pd\n",
    "import matplotlib.pyplot as plt"
   ]
  },
  {
   "cell_type": "code",
   "execution_count": 4,
   "metadata": {},
   "outputs": [],
   "source": [
    "df = pd.read_csv('./raw_data.csv')"
   ]
  },
  {
   "cell_type": "code",
   "execution_count": 44,
   "metadata": {},
   "outputs": [
    {
     "data": {
      "text/html": [
       "<div>\n",
       "<style scoped>\n",
       "    .dataframe tbody tr th:only-of-type {\n",
       "        vertical-align: middle;\n",
       "    }\n",
       "\n",
       "    .dataframe tbody tr th {\n",
       "        vertical-align: top;\n",
       "    }\n",
       "\n",
       "    .dataframe thead th {\n",
       "        text-align: right;\n",
       "    }\n",
       "</style>\n",
       "<table border=\"1\" class=\"dataframe\">\n",
       "  <thead>\n",
       "    <tr style=\"text-align: right;\">\n",
       "      <th></th>\n",
       "      <th>Latitude</th>\n",
       "      <th>Longitude</th>\n",
       "      <th>birth_date</th>\n",
       "      <th>maxtempC</th>\n",
       "      <th>mintempC</th>\n",
       "      <th>totalSnow_cm</th>\n",
       "      <th>sunHour</th>\n",
       "      <th>tempC</th>\n",
       "      <th>windspeedKmph</th>\n",
       "      <th>winddirDegree</th>\n",
       "      <th>...</th>\n",
       "      <th>cloudcover</th>\n",
       "      <th>HeatIndexC</th>\n",
       "      <th>DewPointC</th>\n",
       "      <th>WindChillC</th>\n",
       "      <th>WindGustKmph</th>\n",
       "      <th>FeelsLikeC</th>\n",
       "      <th>uvIndex</th>\n",
       "      <th>sunrise</th>\n",
       "      <th>sunset</th>\n",
       "      <th>season</th>\n",
       "    </tr>\n",
       "  </thead>\n",
       "  <tbody>\n",
       "    <tr>\n",
       "      <td>0</td>\n",
       "      <td>49.830870</td>\n",
       "      <td>-119.156620</td>\n",
       "      <td>2018-05-13 18:40:11</td>\n",
       "      <td>25</td>\n",
       "      <td>8</td>\n",
       "      <td>0.0</td>\n",
       "      <td>14.5</td>\n",
       "      <td>16.0</td>\n",
       "      <td>3.0</td>\n",
       "      <td>16.0</td>\n",
       "      <td>...</td>\n",
       "      <td>4.0</td>\n",
       "      <td>17.0</td>\n",
       "      <td>7.0</td>\n",
       "      <td>17.0</td>\n",
       "      <td>5.0</td>\n",
       "      <td>17.0</td>\n",
       "      <td>1</td>\n",
       "      <td>414</td>\n",
       "      <td>1933</td>\n",
       "      <td>spring</td>\n",
       "    </tr>\n",
       "    <tr>\n",
       "      <td>1</td>\n",
       "      <td>32.986040</td>\n",
       "      <td>-86.692940</td>\n",
       "      <td>2018-10-13 11:57:35</td>\n",
       "      <td>26</td>\n",
       "      <td>13</td>\n",
       "      <td>0.0</td>\n",
       "      <td>11.6</td>\n",
       "      <td>20.0</td>\n",
       "      <td>7.0</td>\n",
       "      <td>33.0</td>\n",
       "      <td>...</td>\n",
       "      <td>11.0</td>\n",
       "      <td>20.0</td>\n",
       "      <td>9.0</td>\n",
       "      <td>20.0</td>\n",
       "      <td>8.0</td>\n",
       "      <td>20.0</td>\n",
       "      <td>1</td>\n",
       "      <td>550</td>\n",
       "      <td>1716</td>\n",
       "      <td>autumn</td>\n",
       "    </tr>\n",
       "    <tr>\n",
       "      <td>2</td>\n",
       "      <td>33.490060</td>\n",
       "      <td>-99.252716</td>\n",
       "      <td>2018-07-30 08:38:32</td>\n",
       "      <td>33</td>\n",
       "      <td>23</td>\n",
       "      <td>0.0</td>\n",
       "      <td>13.3</td>\n",
       "      <td>23.0</td>\n",
       "      <td>36.0</td>\n",
       "      <td>83.0</td>\n",
       "      <td>...</td>\n",
       "      <td>90.0</td>\n",
       "      <td>26.0</td>\n",
       "      <td>22.0</td>\n",
       "      <td>23.0</td>\n",
       "      <td>43.0</td>\n",
       "      <td>26.0</td>\n",
       "      <td>1</td>\n",
       "      <td>548</td>\n",
       "      <td>1939</td>\n",
       "      <td>summer</td>\n",
       "    </tr>\n",
       "    <tr>\n",
       "      <td>3</td>\n",
       "      <td>42.903500</td>\n",
       "      <td>-117.783220</td>\n",
       "      <td>2018-11-15 23:37:41</td>\n",
       "      <td>11</td>\n",
       "      <td>1</td>\n",
       "      <td>0.0</td>\n",
       "      <td>8.7</td>\n",
       "      <td>4.0</td>\n",
       "      <td>1.0</td>\n",
       "      <td>267.0</td>\n",
       "      <td>...</td>\n",
       "      <td>10.0</td>\n",
       "      <td>4.0</td>\n",
       "      <td>-5.0</td>\n",
       "      <td>4.0</td>\n",
       "      <td>2.0</td>\n",
       "      <td>4.0</td>\n",
       "      <td>1</td>\n",
       "      <td>744</td>\n",
       "      <td>1728</td>\n",
       "      <td>autumn</td>\n",
       "    </tr>\n",
       "    <tr>\n",
       "      <td>4</td>\n",
       "      <td>50.146244</td>\n",
       "      <td>-103.212036</td>\n",
       "      <td>2018-02-02 09:28:53</td>\n",
       "      <td>-17</td>\n",
       "      <td>-24</td>\n",
       "      <td>0.3</td>\n",
       "      <td>3.5</td>\n",
       "      <td>-20.0</td>\n",
       "      <td>4.0</td>\n",
       "      <td>280.0</td>\n",
       "      <td>...</td>\n",
       "      <td>100.0</td>\n",
       "      <td>-20.0</td>\n",
       "      <td>-21.0</td>\n",
       "      <td>-24.0</td>\n",
       "      <td>7.0</td>\n",
       "      <td>-24.0</td>\n",
       "      <td>1</td>\n",
       "      <td>825</td>\n",
       "      <td>1749</td>\n",
       "      <td>winter</td>\n",
       "    </tr>\n",
       "  </tbody>\n",
       "</table>\n",
       "<p>5 rows × 24 columns</p>\n",
       "</div>"
      ],
      "text/plain": [
       "    Latitude   Longitude           birth_date  maxtempC  mintempC  \\\n",
       "0  49.830870 -119.156620  2018-05-13 18:40:11        25         8   \n",
       "1  32.986040  -86.692940  2018-10-13 11:57:35        26        13   \n",
       "2  33.490060  -99.252716  2018-07-30 08:38:32        33        23   \n",
       "3  42.903500 -117.783220  2018-11-15 23:37:41        11         1   \n",
       "4  50.146244 -103.212036  2018-02-02 09:28:53       -17       -24   \n",
       "\n",
       "   totalSnow_cm  sunHour  tempC  windspeedKmph  winddirDegree  ...  \\\n",
       "0           0.0     14.5   16.0            3.0           16.0  ...   \n",
       "1           0.0     11.6   20.0            7.0           33.0  ...   \n",
       "2           0.0     13.3   23.0           36.0           83.0  ...   \n",
       "3           0.0      8.7    4.0            1.0          267.0  ...   \n",
       "4           0.3      3.5  -20.0            4.0          280.0  ...   \n",
       "\n",
       "   cloudcover  HeatIndexC  DewPointC  WindChillC  WindGustKmph  FeelsLikeC  \\\n",
       "0         4.0        17.0        7.0        17.0           5.0        17.0   \n",
       "1        11.0        20.0        9.0        20.0           8.0        20.0   \n",
       "2        90.0        26.0       22.0        23.0          43.0        26.0   \n",
       "3        10.0         4.0       -5.0         4.0           2.0         4.0   \n",
       "4       100.0       -20.0      -21.0       -24.0           7.0       -24.0   \n",
       "\n",
       "   uvIndex  sunrise  sunset  season  \n",
       "0        1      414    1933  spring  \n",
       "1        1      550    1716  autumn  \n",
       "2        1      548    1939  summer  \n",
       "3        1      744    1728  autumn  \n",
       "4        1      825    1749  winter  \n",
       "\n",
       "[5 rows x 24 columns]"
      ]
     },
     "execution_count": 44,
     "metadata": {},
     "output_type": "execute_result"
    }
   ],
   "source": [
    "df.head()"
   ]
  },
  {
   "cell_type": "code",
   "execution_count": 45,
   "metadata": {},
   "outputs": [
    {
     "data": {
      "text/html": [
       "<div>\n",
       "<style scoped>\n",
       "    .dataframe tbody tr th:only-of-type {\n",
       "        vertical-align: middle;\n",
       "    }\n",
       "\n",
       "    .dataframe tbody tr th {\n",
       "        vertical-align: top;\n",
       "    }\n",
       "\n",
       "    .dataframe thead th {\n",
       "        text-align: right;\n",
       "    }\n",
       "</style>\n",
       "<table border=\"1\" class=\"dataframe\">\n",
       "  <thead>\n",
       "    <tr style=\"text-align: right;\">\n",
       "      <th></th>\n",
       "      <th>Latitude</th>\n",
       "      <th>Longitude</th>\n",
       "      <th>maxtempC</th>\n",
       "      <th>mintempC</th>\n",
       "      <th>totalSnow_cm</th>\n",
       "      <th>sunHour</th>\n",
       "      <th>tempC</th>\n",
       "      <th>windspeedKmph</th>\n",
       "      <th>winddirDegree</th>\n",
       "      <th>precipMM</th>\n",
       "      <th>...</th>\n",
       "      <th>pressure</th>\n",
       "      <th>cloudcover</th>\n",
       "      <th>HeatIndexC</th>\n",
       "      <th>DewPointC</th>\n",
       "      <th>WindChillC</th>\n",
       "      <th>WindGustKmph</th>\n",
       "      <th>FeelsLikeC</th>\n",
       "      <th>uvIndex</th>\n",
       "      <th>sunrise</th>\n",
       "      <th>sunset</th>\n",
       "    </tr>\n",
       "  </thead>\n",
       "  <tbody>\n",
       "    <tr>\n",
       "      <td>count</td>\n",
       "      <td>3442.000000</td>\n",
       "      <td>3442.000000</td>\n",
       "      <td>3442.000000</td>\n",
       "      <td>3442.000000</td>\n",
       "      <td>3442.000000</td>\n",
       "      <td>3442.000000</td>\n",
       "      <td>3442.000000</td>\n",
       "      <td>3442.000000</td>\n",
       "      <td>3442.000000</td>\n",
       "      <td>3442.000000</td>\n",
       "      <td>...</td>\n",
       "      <td>3442.000000</td>\n",
       "      <td>3442.000000</td>\n",
       "      <td>3442.000000</td>\n",
       "      <td>3442.000000</td>\n",
       "      <td>3442.000000</td>\n",
       "      <td>3442.000000</td>\n",
       "      <td>3442.000000</td>\n",
       "      <td>3442.0</td>\n",
       "      <td>3442.000000</td>\n",
       "      <td>3442.000000</td>\n",
       "    </tr>\n",
       "    <tr>\n",
       "      <td>mean</td>\n",
       "      <td>40.528542</td>\n",
       "      <td>-99.600947</td>\n",
       "      <td>13.363161</td>\n",
       "      <td>4.693202</td>\n",
       "      <td>0.241778</td>\n",
       "      <td>9.767955</td>\n",
       "      <td>8.843696</td>\n",
       "      <td>12.666182</td>\n",
       "      <td>197.915456</td>\n",
       "      <td>0.188989</td>\n",
       "      <td>...</td>\n",
       "      <td>1017.623765</td>\n",
       "      <td>38.043579</td>\n",
       "      <td>9.293144</td>\n",
       "      <td>1.793144</td>\n",
       "      <td>6.997966</td>\n",
       "      <td>19.517722</td>\n",
       "      <td>7.207728</td>\n",
       "      <td>1.0</td>\n",
       "      <td>619.109820</td>\n",
       "      <td>1816.309994</td>\n",
       "    </tr>\n",
       "    <tr>\n",
       "      <td>std</td>\n",
       "      <td>7.225794</td>\n",
       "      <td>13.529726</td>\n",
       "      <td>13.275872</td>\n",
       "      <td>12.350825</td>\n",
       "      <td>1.255309</td>\n",
       "      <td>3.421308</td>\n",
       "      <td>13.073862</td>\n",
       "      <td>7.784317</td>\n",
       "      <td>98.860827</td>\n",
       "      <td>1.109924</td>\n",
       "      <td>...</td>\n",
       "      <td>7.692880</td>\n",
       "      <td>36.664495</td>\n",
       "      <td>13.343071</td>\n",
       "      <td>11.291657</td>\n",
       "      <td>15.117009</td>\n",
       "      <td>11.344868</td>\n",
       "      <td>15.397253</td>\n",
       "      <td>0.0</td>\n",
       "      <td>110.465803</td>\n",
       "      <td>110.336752</td>\n",
       "    </tr>\n",
       "    <tr>\n",
       "      <td>min</td>\n",
       "      <td>28.102217</td>\n",
       "      <td>-122.998980</td>\n",
       "      <td>-32.000000</td>\n",
       "      <td>-40.000000</td>\n",
       "      <td>0.000000</td>\n",
       "      <td>1.900000</td>\n",
       "      <td>-40.000000</td>\n",
       "      <td>0.000000</td>\n",
       "      <td>0.000000</td>\n",
       "      <td>0.000000</td>\n",
       "      <td>...</td>\n",
       "      <td>988.000000</td>\n",
       "      <td>0.000000</td>\n",
       "      <td>-39.000000</td>\n",
       "      <td>-42.000000</td>\n",
       "      <td>-47.000000</td>\n",
       "      <td>0.000000</td>\n",
       "      <td>-47.000000</td>\n",
       "      <td>1.0</td>\n",
       "      <td>337.000000</td>\n",
       "      <td>1548.000000</td>\n",
       "    </tr>\n",
       "    <tr>\n",
       "      <td>25%</td>\n",
       "      <td>34.204875</td>\n",
       "      <td>-111.250140</td>\n",
       "      <td>3.000000</td>\n",
       "      <td>-3.000000</td>\n",
       "      <td>0.000000</td>\n",
       "      <td>7.400000</td>\n",
       "      <td>0.000000</td>\n",
       "      <td>7.000000</td>\n",
       "      <td>122.250000</td>\n",
       "      <td>0.000000</td>\n",
       "      <td>...</td>\n",
       "      <td>1013.000000</td>\n",
       "      <td>6.000000</td>\n",
       "      <td>-0.000000</td>\n",
       "      <td>-6.000000</td>\n",
       "      <td>-4.000000</td>\n",
       "      <td>11.000000</td>\n",
       "      <td>-4.000000</td>\n",
       "      <td>1.0</td>\n",
       "      <td>533.000000</td>\n",
       "      <td>1730.000000</td>\n",
       "    </tr>\n",
       "    <tr>\n",
       "      <td>50%</td>\n",
       "      <td>40.661141</td>\n",
       "      <td>-99.840960</td>\n",
       "      <td>15.000000</td>\n",
       "      <td>6.000000</td>\n",
       "      <td>0.000000</td>\n",
       "      <td>9.900000</td>\n",
       "      <td>10.000000</td>\n",
       "      <td>11.000000</td>\n",
       "      <td>207.000000</td>\n",
       "      <td>0.000000</td>\n",
       "      <td>...</td>\n",
       "      <td>1017.000000</td>\n",
       "      <td>23.000000</td>\n",
       "      <td>10.000000</td>\n",
       "      <td>1.000000</td>\n",
       "      <td>9.000000</td>\n",
       "      <td>17.000000</td>\n",
       "      <td>9.000000</td>\n",
       "      <td>1.0</td>\n",
       "      <td>624.000000</td>\n",
       "      <td>1819.500000</td>\n",
       "    </tr>\n",
       "    <tr>\n",
       "      <td>75%</td>\n",
       "      <td>46.771526</td>\n",
       "      <td>-87.880728</td>\n",
       "      <td>24.000000</td>\n",
       "      <td>14.000000</td>\n",
       "      <td>0.000000</td>\n",
       "      <td>12.900000</td>\n",
       "      <td>19.000000</td>\n",
       "      <td>17.000000</td>\n",
       "      <td>281.000000</td>\n",
       "      <td>0.000000</td>\n",
       "      <td>...</td>\n",
       "      <td>1022.000000</td>\n",
       "      <td>72.000000</td>\n",
       "      <td>19.000000</td>\n",
       "      <td>10.000000</td>\n",
       "      <td>19.000000</td>\n",
       "      <td>25.000000</td>\n",
       "      <td>19.000000</td>\n",
       "      <td>1.0</td>\n",
       "      <td>715.000000</td>\n",
       "      <td>1910.000000</td>\n",
       "    </tr>\n",
       "    <tr>\n",
       "      <td>max</td>\n",
       "      <td>52.984756</td>\n",
       "      <td>-76.104120</td>\n",
       "      <td>45.000000</td>\n",
       "      <td>34.000000</td>\n",
       "      <td>25.400000</td>\n",
       "      <td>16.800000</td>\n",
       "      <td>42.000000</td>\n",
       "      <td>59.000000</td>\n",
       "      <td>360.000000</td>\n",
       "      <td>33.400000</td>\n",
       "      <td>...</td>\n",
       "      <td>1047.000000</td>\n",
       "      <td>100.000000</td>\n",
       "      <td>43.000000</td>\n",
       "      <td>26.000000</td>\n",
       "      <td>42.000000</td>\n",
       "      <td>80.000000</td>\n",
       "      <td>43.000000</td>\n",
       "      <td>1.0</td>\n",
       "      <td>926.000000</td>\n",
       "      <td>2116.000000</td>\n",
       "    </tr>\n",
       "  </tbody>\n",
       "</table>\n",
       "<p>8 rows × 22 columns</p>\n",
       "</div>"
      ],
      "text/plain": [
       "          Latitude    Longitude     maxtempC     mintempC  totalSnow_cm  \\\n",
       "count  3442.000000  3442.000000  3442.000000  3442.000000   3442.000000   \n",
       "mean     40.528542   -99.600947    13.363161     4.693202      0.241778   \n",
       "std       7.225794    13.529726    13.275872    12.350825      1.255309   \n",
       "min      28.102217  -122.998980   -32.000000   -40.000000      0.000000   \n",
       "25%      34.204875  -111.250140     3.000000    -3.000000      0.000000   \n",
       "50%      40.661141   -99.840960    15.000000     6.000000      0.000000   \n",
       "75%      46.771526   -87.880728    24.000000    14.000000      0.000000   \n",
       "max      52.984756   -76.104120    45.000000    34.000000     25.400000   \n",
       "\n",
       "           sunHour        tempC  windspeedKmph  winddirDegree     precipMM  \\\n",
       "count  3442.000000  3442.000000    3442.000000    3442.000000  3442.000000   \n",
       "mean      9.767955     8.843696      12.666182     197.915456     0.188989   \n",
       "std       3.421308    13.073862       7.784317      98.860827     1.109924   \n",
       "min       1.900000   -40.000000       0.000000       0.000000     0.000000   \n",
       "25%       7.400000     0.000000       7.000000     122.250000     0.000000   \n",
       "50%       9.900000    10.000000      11.000000     207.000000     0.000000   \n",
       "75%      12.900000    19.000000      17.000000     281.000000     0.000000   \n",
       "max      16.800000    42.000000      59.000000     360.000000    33.400000   \n",
       "\n",
       "       ...     pressure   cloudcover   HeatIndexC    DewPointC   WindChillC  \\\n",
       "count  ...  3442.000000  3442.000000  3442.000000  3442.000000  3442.000000   \n",
       "mean   ...  1017.623765    38.043579     9.293144     1.793144     6.997966   \n",
       "std    ...     7.692880    36.664495    13.343071    11.291657    15.117009   \n",
       "min    ...   988.000000     0.000000   -39.000000   -42.000000   -47.000000   \n",
       "25%    ...  1013.000000     6.000000    -0.000000    -6.000000    -4.000000   \n",
       "50%    ...  1017.000000    23.000000    10.000000     1.000000     9.000000   \n",
       "75%    ...  1022.000000    72.000000    19.000000    10.000000    19.000000   \n",
       "max    ...  1047.000000   100.000000    43.000000    26.000000    42.000000   \n",
       "\n",
       "       WindGustKmph   FeelsLikeC  uvIndex      sunrise       sunset  \n",
       "count   3442.000000  3442.000000   3442.0  3442.000000  3442.000000  \n",
       "mean      19.517722     7.207728      1.0   619.109820  1816.309994  \n",
       "std       11.344868    15.397253      0.0   110.465803   110.336752  \n",
       "min        0.000000   -47.000000      1.0   337.000000  1548.000000  \n",
       "25%       11.000000    -4.000000      1.0   533.000000  1730.000000  \n",
       "50%       17.000000     9.000000      1.0   624.000000  1819.500000  \n",
       "75%       25.000000    19.000000      1.0   715.000000  1910.000000  \n",
       "max       80.000000    43.000000      1.0   926.000000  2116.000000  \n",
       "\n",
       "[8 rows x 22 columns]"
      ]
     },
     "execution_count": 45,
     "metadata": {},
     "output_type": "execute_result"
    }
   ],
   "source": [
    "df.describe()"
   ]
  },
  {
   "cell_type": "markdown",
   "metadata": {},
   "source": [
    "Change 'sunrise' and 'sunset' to integer type "
   ]
  },
  {
   "cell_type": "code",
   "execution_count": 15,
   "metadata": {},
   "outputs": [],
   "source": [
    "def parseSunTime(time):\n",
    "    splitted = time.split(' ')\n",
    "    hm = splitted[0].split(':')\n",
    "    parsedTime = int(hm[0])*100 + int(hm[1])\n",
    "    if splitted[1] == 'PM':\n",
    "        parsedTime += 1200\n",
    "            \n",
    "    return parsedTime\n",
    "    \n",
    "df['sunrise'] = df[\"sunrise\"].apply(lambda x: parseSunTime(x))\n",
    "df['sunset'] = df[\"sunset\"].apply(lambda x: parseSunTime(x))"
   ]
  },
  {
   "cell_type": "code",
   "execution_count": 16,
   "metadata": {},
   "outputs": [
    {
     "data": {
      "text/html": [
       "<div>\n",
       "<style scoped>\n",
       "    .dataframe tbody tr th:only-of-type {\n",
       "        vertical-align: middle;\n",
       "    }\n",
       "\n",
       "    .dataframe tbody tr th {\n",
       "        vertical-align: top;\n",
       "    }\n",
       "\n",
       "    .dataframe thead th {\n",
       "        text-align: right;\n",
       "    }\n",
       "</style>\n",
       "<table border=\"1\" class=\"dataframe\">\n",
       "  <thead>\n",
       "    <tr style=\"text-align: right;\">\n",
       "      <th></th>\n",
       "      <th>Latitude</th>\n",
       "      <th>Longitude</th>\n",
       "      <th>birth_date</th>\n",
       "      <th>maxtempC</th>\n",
       "      <th>mintempC</th>\n",
       "      <th>totalSnow_cm</th>\n",
       "      <th>sunHour</th>\n",
       "      <th>tempC</th>\n",
       "      <th>windspeedKmph</th>\n",
       "      <th>winddirDegree</th>\n",
       "      <th>...</th>\n",
       "      <th>cloudcover</th>\n",
       "      <th>HeatIndexC</th>\n",
       "      <th>DewPointC</th>\n",
       "      <th>WindChillC</th>\n",
       "      <th>WindGustKmph</th>\n",
       "      <th>FeelsLikeC</th>\n",
       "      <th>uvIndex</th>\n",
       "      <th>sunrise</th>\n",
       "      <th>sunset</th>\n",
       "      <th>season</th>\n",
       "    </tr>\n",
       "  </thead>\n",
       "  <tbody>\n",
       "    <tr>\n",
       "      <td>0</td>\n",
       "      <td>49.830870</td>\n",
       "      <td>-119.156620</td>\n",
       "      <td>2018-05-13 18:40:11</td>\n",
       "      <td>25</td>\n",
       "      <td>8</td>\n",
       "      <td>0.0</td>\n",
       "      <td>14.5</td>\n",
       "      <td>16.0</td>\n",
       "      <td>3.0</td>\n",
       "      <td>16.0</td>\n",
       "      <td>...</td>\n",
       "      <td>4.0</td>\n",
       "      <td>17.0</td>\n",
       "      <td>7.0</td>\n",
       "      <td>17.0</td>\n",
       "      <td>5.0</td>\n",
       "      <td>17.0</td>\n",
       "      <td>1</td>\n",
       "      <td>414</td>\n",
       "      <td>1933</td>\n",
       "      <td>spring</td>\n",
       "    </tr>\n",
       "    <tr>\n",
       "      <td>1</td>\n",
       "      <td>32.986040</td>\n",
       "      <td>-86.692940</td>\n",
       "      <td>2018-10-13 11:57:35</td>\n",
       "      <td>26</td>\n",
       "      <td>13</td>\n",
       "      <td>0.0</td>\n",
       "      <td>11.6</td>\n",
       "      <td>20.0</td>\n",
       "      <td>7.0</td>\n",
       "      <td>33.0</td>\n",
       "      <td>...</td>\n",
       "      <td>11.0</td>\n",
       "      <td>20.0</td>\n",
       "      <td>9.0</td>\n",
       "      <td>20.0</td>\n",
       "      <td>8.0</td>\n",
       "      <td>20.0</td>\n",
       "      <td>1</td>\n",
       "      <td>550</td>\n",
       "      <td>1716</td>\n",
       "      <td>autumn</td>\n",
       "    </tr>\n",
       "    <tr>\n",
       "      <td>2</td>\n",
       "      <td>33.490060</td>\n",
       "      <td>-99.252716</td>\n",
       "      <td>2018-07-30 08:38:32</td>\n",
       "      <td>33</td>\n",
       "      <td>23</td>\n",
       "      <td>0.0</td>\n",
       "      <td>13.3</td>\n",
       "      <td>23.0</td>\n",
       "      <td>36.0</td>\n",
       "      <td>83.0</td>\n",
       "      <td>...</td>\n",
       "      <td>90.0</td>\n",
       "      <td>26.0</td>\n",
       "      <td>22.0</td>\n",
       "      <td>23.0</td>\n",
       "      <td>43.0</td>\n",
       "      <td>26.0</td>\n",
       "      <td>1</td>\n",
       "      <td>548</td>\n",
       "      <td>1939</td>\n",
       "      <td>summer</td>\n",
       "    </tr>\n",
       "    <tr>\n",
       "      <td>3</td>\n",
       "      <td>42.903500</td>\n",
       "      <td>-117.783220</td>\n",
       "      <td>2018-11-15 23:37:41</td>\n",
       "      <td>11</td>\n",
       "      <td>1</td>\n",
       "      <td>0.0</td>\n",
       "      <td>8.7</td>\n",
       "      <td>4.0</td>\n",
       "      <td>1.0</td>\n",
       "      <td>267.0</td>\n",
       "      <td>...</td>\n",
       "      <td>10.0</td>\n",
       "      <td>4.0</td>\n",
       "      <td>-5.0</td>\n",
       "      <td>4.0</td>\n",
       "      <td>2.0</td>\n",
       "      <td>4.0</td>\n",
       "      <td>1</td>\n",
       "      <td>744</td>\n",
       "      <td>1728</td>\n",
       "      <td>autumn</td>\n",
       "    </tr>\n",
       "    <tr>\n",
       "      <td>4</td>\n",
       "      <td>50.146244</td>\n",
       "      <td>-103.212036</td>\n",
       "      <td>2018-02-02 09:28:53</td>\n",
       "      <td>-17</td>\n",
       "      <td>-24</td>\n",
       "      <td>0.3</td>\n",
       "      <td>3.5</td>\n",
       "      <td>-20.0</td>\n",
       "      <td>4.0</td>\n",
       "      <td>280.0</td>\n",
       "      <td>...</td>\n",
       "      <td>100.0</td>\n",
       "      <td>-20.0</td>\n",
       "      <td>-21.0</td>\n",
       "      <td>-24.0</td>\n",
       "      <td>7.0</td>\n",
       "      <td>-24.0</td>\n",
       "      <td>1</td>\n",
       "      <td>825</td>\n",
       "      <td>1749</td>\n",
       "      <td>winter</td>\n",
       "    </tr>\n",
       "  </tbody>\n",
       "</table>\n",
       "<p>5 rows × 24 columns</p>\n",
       "</div>"
      ],
      "text/plain": [
       "    Latitude   Longitude           birth_date  maxtempC  mintempC  \\\n",
       "0  49.830870 -119.156620  2018-05-13 18:40:11        25         8   \n",
       "1  32.986040  -86.692940  2018-10-13 11:57:35        26        13   \n",
       "2  33.490060  -99.252716  2018-07-30 08:38:32        33        23   \n",
       "3  42.903500 -117.783220  2018-11-15 23:37:41        11         1   \n",
       "4  50.146244 -103.212036  2018-02-02 09:28:53       -17       -24   \n",
       "\n",
       "   totalSnow_cm  sunHour  tempC  windspeedKmph  winddirDegree  ...  \\\n",
       "0           0.0     14.5   16.0            3.0           16.0  ...   \n",
       "1           0.0     11.6   20.0            7.0           33.0  ...   \n",
       "2           0.0     13.3   23.0           36.0           83.0  ...   \n",
       "3           0.0      8.7    4.0            1.0          267.0  ...   \n",
       "4           0.3      3.5  -20.0            4.0          280.0  ...   \n",
       "\n",
       "   cloudcover  HeatIndexC  DewPointC  WindChillC  WindGustKmph  FeelsLikeC  \\\n",
       "0         4.0        17.0        7.0        17.0           5.0        17.0   \n",
       "1        11.0        20.0        9.0        20.0           8.0        20.0   \n",
       "2        90.0        26.0       22.0        23.0          43.0        26.0   \n",
       "3        10.0         4.0       -5.0         4.0           2.0         4.0   \n",
       "4       100.0       -20.0      -21.0       -24.0           7.0       -24.0   \n",
       "\n",
       "   uvIndex  sunrise  sunset  season  \n",
       "0        1      414    1933  spring  \n",
       "1        1      550    1716  autumn  \n",
       "2        1      548    1939  summer  \n",
       "3        1      744    1728  autumn  \n",
       "4        1      825    1749  winter  \n",
       "\n",
       "[5 rows x 24 columns]"
      ]
     },
     "execution_count": 16,
     "metadata": {},
     "output_type": "execute_result"
    }
   ],
   "source": [
    "df.head()"
   ]
  },
  {
   "cell_type": "code",
   "execution_count": 17,
   "metadata": {},
   "outputs": [
    {
     "data": {
      "text/plain": [
       "Index(['Latitude', 'Longitude', 'birth_date', 'maxtempC', 'mintempC',\n",
       "       'totalSnow_cm', 'sunHour', 'tempC', 'windspeedKmph', 'winddirDegree',\n",
       "       'precipMM', 'humidity', 'visibility', 'pressure', 'cloudcover',\n",
       "       'HeatIndexC', 'DewPointC', 'WindChillC', 'WindGustKmph', 'FeelsLikeC',\n",
       "       'uvIndex', 'sunrise', 'sunset', 'season'],\n",
       "      dtype='object')"
      ]
     },
     "execution_count": 17,
     "metadata": {},
     "output_type": "execute_result"
    }
   ],
   "source": [
    "df.columns"
   ]
  },
  {
   "cell_type": "markdown",
   "metadata": {},
   "source": [
    "Prepare training & test dataset."
   ]
  },
  {
   "cell_type": "code",
   "execution_count": 18,
   "metadata": {},
   "outputs": [],
   "source": [
    "y = df['season']\n",
    "x = df.drop(['season', 'birth_date', 'uvIndex', 'cloudcover', 'winddirDegree', 'windspeedKmph'], axis=1)"
   ]
  },
  {
   "cell_type": "code",
   "execution_count": 19,
   "metadata": {},
   "outputs": [],
   "source": [
    "x_train, x_test, y_train, y_test = train_test_split(x, y, test_size = 0.25)"
   ]
  },
  {
   "cell_type": "markdown",
   "metadata": {},
   "source": [
    "### Decision Tree Classifier"
   ]
  },
  {
   "cell_type": "code",
   "execution_count": 20,
   "metadata": {},
   "outputs": [],
   "source": [
    "dtree = DecisionTreeClassifier().fit(x_train, y_train)"
   ]
  },
  {
   "cell_type": "code",
   "execution_count": 21,
   "metadata": {},
   "outputs": [
    {
     "data": {
      "text/plain": [
       "0.7793263646922184"
      ]
     },
     "execution_count": 21,
     "metadata": {},
     "output_type": "execute_result"
    }
   ],
   "source": [
    "dtree_predictions = dtree.predict(x_test)\n",
    "accuracy_score(y_test, dtree_predictions)"
   ]
  },
  {
   "cell_type": "code",
   "execution_count": 42,
   "metadata": {},
   "outputs": [
    {
     "data": {
      "text/plain": [
       "array([[192,  30,  16,   8],\n",
       "       [ 42, 131,   2,   0],\n",
       "       [ 27,   4, 118,  24],\n",
       "       [ 11,   0,  26, 230]])"
      ]
     },
     "execution_count": 42,
     "metadata": {},
     "output_type": "execute_result"
    }
   ],
   "source": [
    "dtree_matrix = confusion_matrix(y_test, dtree_predictions, labels= [\"spring\",\"summer\",\"autumn\",\"winter\"])\n",
    "dtree_matrix"
   ]
  },
  {
   "cell_type": "markdown",
   "metadata": {},
   "source": [
    "The accuracy of Decision Tree classifier is 78%. Not bad but not good enough. Based on matrix, the accuracy for spring and autumn is low. "
   ]
  },
  {
   "cell_type": "markdown",
   "metadata": {},
   "source": [
    "### Neural Network"
   ]
  },
  {
   "cell_type": "code",
   "execution_count": null,
   "metadata": {},
   "outputs": [],
   "source": [
    "clf = MLPClassifier(hidden_layer_sizes = (10, 10, 10), max_iter=1000, verbose=10)\n",
    "clf.fit(x_train, y_train)\n",
    "mlp_y_pred = clf.predict(x_test)"
   ]
  },
  {
   "cell_type": "code",
   "execution_count": 23,
   "metadata": {},
   "outputs": [
    {
     "data": {
      "text/plain": [
       "0.6655052264808362"
      ]
     },
     "execution_count": 23,
     "metadata": {},
     "output_type": "execute_result"
    }
   ],
   "source": [
    "accuracy_score(y_test, mlp_y_pred)"
   ]
  },
  {
   "cell_type": "code",
   "execution_count": 25,
   "metadata": {},
   "outputs": [
    {
     "data": {
      "text/plain": [
       "array([[232,   4,   2,   8],\n",
       "       [158,  16,   1,   0],\n",
       "       [ 49,   0,  87,  37],\n",
       "       [  2,   0,  27, 238]])"
      ]
     },
     "execution_count": 25,
     "metadata": {},
     "output_type": "execute_result"
    }
   ],
   "source": [
    "confusion_matrix(y_test, mlp_y_pred, labels= [\"spring\",\"summer\",\"autumn\",\"winter\"])"
   ]
  },
  {
   "cell_type": "markdown",
   "metadata": {},
   "source": [
    "The accuracy of Neural Network is lower than Decision Tree model. I think because there is not enough features for Neural Network. Move on to the next algorithm. "
   ]
  },
  {
   "cell_type": "markdown",
   "metadata": {},
   "source": [
    "### Random Forest Classifier"
   ]
  },
  {
   "cell_type": "code",
   "execution_count": 47,
   "metadata": {},
   "outputs": [
    {
     "name": "stderr",
     "output_type": "stream",
     "text": [
      "/opt/anaconda3/lib/python3.7/site-packages/sklearn/ensemble/forest.py:245: FutureWarning: The default value of n_estimators will change from 10 in version 0.20 to 100 in 0.22.\n",
      "  \"10 in version 0.20 to 100 in 0.22.\", FutureWarning)\n"
     ]
    },
    {
     "data": {
      "text/plain": [
       "0.8246225319396051"
      ]
     },
     "execution_count": 47,
     "metadata": {},
     "output_type": "execute_result"
    }
   ],
   "source": [
    "base_model = RandomForestClassifier()\n",
    "base_model.fit(x_train, y_train)\n",
    "random_base_pred = base_model.predict(x_test)\n",
    "accuracy_score(y_test, random_base_pred)"
   ]
  },
  {
   "cell_type": "markdown",
   "metadata": {},
   "source": [
    "The accuracy for the Random Forest Classifier is higher than others. I will go on to tuning the hyperparameters. "
   ]
  },
  {
   "cell_type": "code",
   "execution_count": 48,
   "metadata": {},
   "outputs": [
    {
     "data": {
      "text/plain": [
       "{'bootstrap': True,\n",
       " 'class_weight': None,\n",
       " 'criterion': 'gini',\n",
       " 'max_depth': None,\n",
       " 'max_features': 'auto',\n",
       " 'max_leaf_nodes': None,\n",
       " 'min_impurity_decrease': 0.0,\n",
       " 'min_impurity_split': None,\n",
       " 'min_samples_leaf': 1,\n",
       " 'min_samples_split': 2,\n",
       " 'min_weight_fraction_leaf': 0.0,\n",
       " 'n_estimators': 'warn',\n",
       " 'n_jobs': None,\n",
       " 'oob_score': False,\n",
       " 'random_state': None,\n",
       " 'verbose': 0,\n",
       " 'warm_start': False}"
      ]
     },
     "execution_count": 48,
     "metadata": {},
     "output_type": "execute_result"
    }
   ],
   "source": [
    "rf = RandomForestClassifier()\n",
    "rf.get_params()"
   ]
  },
  {
   "cell_type": "code",
   "execution_count": 49,
   "metadata": {},
   "outputs": [
    {
     "name": "stdout",
     "output_type": "stream",
     "text": [
      "{'n_estimators': [50, 77, 105, 133, 161, 188, 216, 244, 272, 300], 'max_features': ['auto', 'sqrt'], 'max_depth': [5, 12, 19, 26, 33, 41, 48, 55, 62, 70, None], 'min_samples_split': [2, 4, 8, 16], 'min_samples_leaf': [1, 2, 4, 8], 'bootstrap': [True, False]}\n"
     ]
    }
   ],
   "source": [
    "n_estimators = [int(x) for x in np.linspace(start = 50, stop = 300, num = 10)]\n",
    "max_features = ['auto', 'sqrt']\n",
    "max_depth = [int(x) for x in np.linspace(5, 70, num = 10)]\n",
    "max_depth.append(None)\n",
    "min_samples_split = [2, 4, 8, 16]\n",
    "min_samples_leaf = [1, 2, 4, 8]\n",
    "bootstrap = [True, False]\n",
    "\n",
    "random_grid = {'n_estimators': n_estimators,\n",
    "               'max_features': max_features,\n",
    "               'max_depth': max_depth,\n",
    "               'min_samples_split': min_samples_split,\n",
    "               'min_samples_leaf': min_samples_leaf,\n",
    "               'bootstrap': bootstrap}\n",
    "print(random_grid)"
   ]
  },
  {
   "cell_type": "code",
   "execution_count": 53,
   "metadata": {},
   "outputs": [
    {
     "name": "stdout",
     "output_type": "stream",
     "text": [
      "Fitting 3 folds for each of 100 candidates, totalling 300 fits\n"
     ]
    },
    {
     "name": "stderr",
     "output_type": "stream",
     "text": [
      "[Parallel(n_jobs=-1)]: Using backend LokyBackend with 4 concurrent workers.\n",
      "[Parallel(n_jobs=-1)]: Done  33 tasks      | elapsed:   10.9s\n",
      "[Parallel(n_jobs=-1)]: Done 154 tasks      | elapsed:   55.3s\n",
      "[Parallel(n_jobs=-1)]: Done 300 out of 300 | elapsed:  1.8min finished\n"
     ]
    },
    {
     "data": {
      "text/plain": [
       "RandomizedSearchCV(cv=3, error_score='raise-deprecating',\n",
       "                   estimator=RandomForestClassifier(bootstrap=True,\n",
       "                                                    class_weight=None,\n",
       "                                                    criterion='gini',\n",
       "                                                    max_depth=None,\n",
       "                                                    max_features='auto',\n",
       "                                                    max_leaf_nodes=None,\n",
       "                                                    min_impurity_decrease=0.0,\n",
       "                                                    min_impurity_split=None,\n",
       "                                                    min_samples_leaf=1,\n",
       "                                                    min_samples_split=2,\n",
       "                                                    min_weight_fraction_leaf=0.0,\n",
       "                                                    n_estimators='warn',\n",
       "                                                    n_jobs=None,\n",
       "                                                    oob_sc...\n",
       "                   iid='warn', n_iter=100, n_jobs=-1,\n",
       "                   param_distributions={'bootstrap': [True, False],\n",
       "                                        'max_depth': [5, 12, 19, 26, 33, 41, 48,\n",
       "                                                      55, 62, 70, None],\n",
       "                                        'max_features': ['auto', 'sqrt'],\n",
       "                                        'min_samples_leaf': [1, 2, 4, 8],\n",
       "                                        'min_samples_split': [2, 4, 8, 16],\n",
       "                                        'n_estimators': [50, 77, 105, 133, 161,\n",
       "                                                         188, 216, 244, 272,\n",
       "                                                         300]},\n",
       "                   pre_dispatch='2*n_jobs', random_state=42, refit=True,\n",
       "                   return_train_score=False, scoring=None, verbose=2)"
      ]
     },
     "execution_count": 53,
     "metadata": {},
     "output_type": "execute_result"
    }
   ],
   "source": [
    "rf_random = RandomizedSearchCV(estimator = rf, param_distributions = random_grid, n_iter = 100, cv = 3, verbose=2, random_state=42, n_jobs = -1)\n",
    "rf_random.fit(x_train, y_train)"
   ]
  },
  {
   "cell_type": "code",
   "execution_count": 54,
   "metadata": {},
   "outputs": [
    {
     "data": {
      "text/plain": [
       "{'n_estimators': 272,\n",
       " 'min_samples_split': 4,\n",
       " 'min_samples_leaf': 1,\n",
       " 'max_features': 'auto',\n",
       " 'max_depth': None,\n",
       " 'bootstrap': False}"
      ]
     },
     "execution_count": 54,
     "metadata": {},
     "output_type": "execute_result"
    }
   ],
   "source": [
    "rf_random.best_params_"
   ]
  },
  {
   "cell_type": "markdown",
   "metadata": {},
   "source": [
    "As a result, the randomized search gave me this set of parameters. "
   ]
  },
  {
   "cell_type": "code",
   "execution_count": 55,
   "metadata": {},
   "outputs": [
    {
     "data": {
      "text/plain": [
       "0.8664343786295006"
      ]
     },
     "execution_count": 55,
     "metadata": {},
     "output_type": "execute_result"
    }
   ],
   "source": [
    "random_model = rf_random.best_estimator_\n",
    "best_random_pred = random_model.predict(x_test)\n",
    "accuracy_score(y_test, best_random_pred)"
   ]
  },
  {
   "cell_type": "markdown",
   "metadata": {},
   "source": [
    "Now the model has improved accuracy by 4.4%! The accuracy of fine-tuned Random Forest Classifier model is 86.6%. "
   ]
  },
  {
   "cell_type": "markdown",
   "metadata": {},
   "source": [
    "I tried 3 classification algorithms to predict seasons based on various geographical data(the number of data is 3442) - Decision tree model, Neural network model, and the Random forest model. The best model is the Random forest with 85% accuracy. "
   ]
  }
 ],
 "metadata": {
  "kernelspec": {
   "display_name": "Python 3",
   "language": "python",
   "name": "python3"
  },
  "language_info": {
   "codemirror_mode": {
    "name": "ipython",
    "version": 3
   },
   "file_extension": ".py",
   "mimetype": "text/x-python",
   "name": "python",
   "nbconvert_exporter": "python",
   "pygments_lexer": "ipython3",
   "version": "3.7.4"
  },
  "toc": {
   "base_numbering": 1,
   "nav_menu": {},
   "number_sections": true,
   "sideBar": true,
   "skip_h1_title": false,
   "title_cell": "Table of Contents",
   "title_sidebar": "Contents",
   "toc_cell": false,
   "toc_position": {},
   "toc_section_display": true,
   "toc_window_display": true
  }
 },
 "nbformat": 4,
 "nbformat_minor": 2
}
