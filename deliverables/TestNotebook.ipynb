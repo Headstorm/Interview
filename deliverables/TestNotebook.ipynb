{
 "cells": [
  {
   "cell_type": "code",
   "execution_count": 4,
   "metadata": {},
   "outputs": [],
   "source": [
    "import pandas as pd \n",
    "import numpy as np\n",
    "from datetime import datetime\n",
    "from pandas.io.json import json_normalize\n",
    "import pickle"
   ]
  },
  {
   "cell_type": "markdown",
   "metadata": {},
   "source": [
    "# Loading the test data set\n",
    "\n",
    "- This Jupyter Notebook requires a test file in .csv format \n",
    "\n",
    "- There are 2 ways to test this file: \n",
    "\n",
    "- Uncomment the blocks of code for whichever method (METHOD 1 OR METHOD 2) you want to test the Random Forest model on."
   ]
  },
  {
   "cell_type": "markdown",
   "metadata": {},
   "source": [
    "METHOD 1:\n",
    "- If you want to use a CSV of (longitude, latitude, timestamp) uncomment the block of code below.\n",
    "\n",
    "- Pass the filename of the test CSV dataset in the placeholder for **path** variable"
   ]
  },
  {
   "cell_type": "code",
   "execution_count": 5,
   "metadata": {},
   "outputs": [],
   "source": [
    "lat_long_filename = \"\"\n",
    "weather_filename = \"\""
   ]
  },
  {
   "cell_type": "code",
   "execution_count": 6,
   "metadata": {},
   "outputs": [],
   "source": [
    "# #METHOD:1 Block of code\n",
    "\n",
    "# path = '<filename>' #enter the path to your CSV test file here. (Recommended: copy the file in the current folder)\n",
    "\n",
    "# long_lat_timestamp = pd.DataFrame()\n",
    "# lat_long_timestamp = pd.DataFrame(columns=['Latitude', 'Longitude', 'Birth Date'])\n",
    "# prefetch = False\n",
    "\n",
    "# # files\n",
    "# lat_long_filename = 'lat_long_timestamp_test.csv'\n",
    "# weather_filename = 'weather_dataframe_test.csv'\n",
    "\n",
    "# if(path == ''):\n",
    "#     print(\"Please enter a valid file name\")\n",
    "# else:\n",
    "#     long_lat_timestamp = pd.read_csv(path)\n",
    "#     lat_long_timestamp['Latitude'] = long_lat_timestamp['Latitude']\n",
    "#     lat_long_timestamp['Longitude'] = long_lat_timestamp['Longitude']\n",
    "#     lat_long_timestamp['Birth Date'] = long_lat_timestamp['Birth Date']    "
   ]
  },
  {
   "cell_type": "code",
   "execution_count": 7,
   "metadata": {},
   "outputs": [],
   "source": [
    "long_lat_timestamp = pd.DataFrame(columns=['Latitude', 'Longitude', 'Birth Date'])"
   ]
  },
  {
   "cell_type": "markdown",
   "metadata": {},
   "source": [
    "METHOD 2:\n",
    "- If you want to test against pre-fetched data, uncomment the 3 lines in the cell below "
   ]
  },
  {
   "cell_type": "code",
   "execution_count": 8,
   "metadata": {},
   "outputs": [],
   "source": [
    "# #METHOD:2 Block of code\n",
    "\n",
    "# prefetch = True\n",
    "# lat_long_filename = 'lat_long_timestamp_test_500.csv'\n",
    "# weather_filename = 'weather_dataframe_test_500.csv'\n",
    "        "
   ]
  },
  {
   "cell_type": "markdown",
   "metadata": {},
   "source": [
    "# Function to label season based on timestamp (birth date)\n",
    "\n",
    "- The function **get_season_from_month()** "
   ]
  },
  {
   "cell_type": "code",
   "execution_count": 9,
   "metadata": {},
   "outputs": [],
   "source": [
    "def get_season_from_month(timestamp):\n",
    "    dateTimeObject = datetime.fromtimestamp(timestamp)\n",
    "    month = dateTimeObject.month\n",
    "    if(month in [1, 2, 12]):\n",
    "        return \"Winter\"\n",
    "    elif(month in [3, 4, 5]):\n",
    "        return \"Spring\"\n",
    "    elif(month in [6, 7, 8]):\n",
    "        return \"Summer\"\n",
    "    elif(month in [9, 10, 11]):\n",
    "        return \"Fall\""
   ]
  },
  {
   "cell_type": "markdown",
   "metadata": {},
   "source": [
    "- Create an empty dataframe called \"weather dataframe\" to store the data fetched from the \"Darksky\" API"
   ]
  },
  {
   "cell_type": "code",
   "execution_count": 10,
   "metadata": {},
   "outputs": [],
   "source": [
    "column_names = ['apparentTemperatureHigh', 'apparentTemperatureHighTime',\n",
    "       'apparentTemperatureLow', 'apparentTemperatureLowTime',\n",
    "       'apparentTemperatureMax', 'apparentTemperatureMaxTime',\n",
    "       'apparentTemperatureMin', 'apparentTemperatureMinTime', 'cloudCover',\n",
    "       'dewPoint', 'humidity', 'icon', 'moonPhase', 'precipAccumulation',\n",
    "       'precipIntensity', 'precipIntensityMax', 'precipIntensityMaxTime',\n",
    "       'precipProbability', 'precipType', 'pressure', 'summary', 'sunriseTime',\n",
    "       'sunsetTime', 'temperatureHigh', 'temperatureHighTime',\n",
    "       'temperatureLow', 'temperatureLowTime', 'temperatureMax',\n",
    "       'temperatureMaxTime', 'temperatureMin', 'temperatureMinTime', 'time',\n",
    "       'uvIndex', 'uvIndexTime', 'visibility', 'windBearing', 'windGust',\n",
    "       'windGustTime', 'windSpeed']\n",
    "weather_dataframe = pd.DataFrame(columns = column_names)"
   ]
  },
  {
   "cell_type": "markdown",
   "metadata": {},
   "source": [
    "- Create an empty numpy array to accept empty responses from the Darksky API"
   ]
  },
  {
   "cell_type": "code",
   "execution_count": 11,
   "metadata": {},
   "outputs": [],
   "source": [
    "nan_array = np.empty((1,len(column_names)))\n",
    "nan_array[:] = np.nan"
   ]
  },
  {
   "cell_type": "markdown",
   "metadata": {},
   "source": [
    "# Fetching weather features from API"
   ]
  },
  {
   "cell_type": "markdown",
   "metadata": {},
   "source": [
    "- We are using the 3-tuple of (latitude, longitude, timestamp) from the test file to fetch data from the API.\n",
    "- Using a for loop, we will pass each 3-tuple from our lat_long_timestamp dataframe to obtain weather data at that particular location and time (daily aggregated). \n",
    "- Each set of features obtained foe every 3-tuple will be added to our empty initialized dataframe called \"weather_dataframe\""
   ]
  },
  {
   "cell_type": "code",
   "execution_count": 12,
   "metadata": {},
   "outputs": [],
   "source": [
    "if(prefetch == False):\n",
    "    lat_long_timestamp[\"datetime\"] = lat_long_timestamp[\"Birth Date\"].apply(lambda x: datetime.fromtimestamp(x))\n",
    "    lat_long_timestamp[\"Season\"] = lat_long_timestamp['Birth Date'].apply(lambda x: get_season_from_month(x) )\n",
    "\n",
    "\n",
    "    lat_long_timestamp.to_csv(lat_long_filename)\n",
    "    api_key = \"81bbbccc7288b8cc8f5e3661483a86cd\"\n",
    "\n",
    "    for i in range(0,len(lat_long_timestamp)):\n",
    "    #     print(\"https://api.darksky.net/forecast/\"+api_key+\"/\"+str(lat_long_timestamp[\"Latitude\"][i])+\",\"+str(lat_long_timestamp[\"Longitude\"][i])+\",\"+str(lat_long_timestamp[\"Birth Date\"][i])+\"?exclude=currently,flags\"+\"\\t\"+str(i)+\"\\n\")\n",
    "        output = []\n",
    "        df_b = []\n",
    "        try:\n",
    "            output = pd.read_json(\"https://api.darksky.net/forecast/\"+api_key+\"/\"+str(lat_long_timestamp[\"Latitude\"][i])+\",\"+str(lat_long_timestamp[\"Longitude\"][i])+\",\"+str(lat_long_timestamp[\"Birth Date\"][i])+\"?exclude=currently,flags\",orient='columns')\n",
    "            df_b = pd.DataFrame.from_dict(json_normalize(output[\"daily\"][0]),orient='columns')\n",
    "        except:\n",
    "            output = nan_array\n",
    "            df_b = pd.DataFrame(nan_array,columns=column_names)\n",
    "        weather_dataframe = pd.concat([weather_dataframe,df_b])\n",
    "\n",
    "    weather_dataframe.to_csv(weather_filename)"
   ]
  },
  {
   "cell_type": "markdown",
   "metadata": {},
   "source": [
    "# Data Preprocessing\n",
    "\n",
    "- We will load(read) the written CSV files OR the pre-fetched dattsets to clean & pre-process the data"
   ]
  },
  {
   "cell_type": "code",
   "execution_count": 13,
   "metadata": {},
   "outputs": [],
   "source": [
    "lat_long_timestamp = pd.read_csv(lat_long_filename)"
   ]
  },
  {
   "cell_type": "code",
   "execution_count": 14,
   "metadata": {},
   "outputs": [],
   "source": [
    "weather_dataframe = pd.read_csv(weather_filename)"
   ]
  },
  {
   "cell_type": "code",
   "execution_count": 15,
   "metadata": {},
   "outputs": [
    {
     "data": {
      "text/html": [
       "<div>\n",
       "<style scoped>\n",
       "    .dataframe tbody tr th:only-of-type {\n",
       "        vertical-align: middle;\n",
       "    }\n",
       "\n",
       "    .dataframe tbody tr th {\n",
       "        vertical-align: top;\n",
       "    }\n",
       "\n",
       "    .dataframe thead th {\n",
       "        text-align: right;\n",
       "    }\n",
       "</style>\n",
       "<table border=\"1\" class=\"dataframe\">\n",
       "  <thead>\n",
       "    <tr style=\"text-align: right;\">\n",
       "      <th></th>\n",
       "      <th>Unnamed: 0</th>\n",
       "      <th>apparentTemperatureHigh</th>\n",
       "      <th>apparentTemperatureHighTime</th>\n",
       "      <th>apparentTemperatureLow</th>\n",
       "      <th>apparentTemperatureLowTime</th>\n",
       "      <th>apparentTemperatureMax</th>\n",
       "      <th>apparentTemperatureMaxTime</th>\n",
       "      <th>apparentTemperatureMin</th>\n",
       "      <th>apparentTemperatureMinTime</th>\n",
       "      <th>cloudCover</th>\n",
       "      <th>...</th>\n",
       "      <th>temperatureMin</th>\n",
       "      <th>temperatureMinTime</th>\n",
       "      <th>time</th>\n",
       "      <th>uvIndex</th>\n",
       "      <th>uvIndexTime</th>\n",
       "      <th>visibility</th>\n",
       "      <th>windBearing</th>\n",
       "      <th>windGust</th>\n",
       "      <th>windGustTime</th>\n",
       "      <th>windSpeed</th>\n",
       "    </tr>\n",
       "  </thead>\n",
       "  <tbody>\n",
       "    <tr>\n",
       "      <th>0</th>\n",
       "      <td>0</td>\n",
       "      <td>83.24</td>\n",
       "      <td>1.534455e+09</td>\n",
       "      <td>67.04</td>\n",
       "      <td>1.534500e+09</td>\n",
       "      <td>83.24</td>\n",
       "      <td>1.534455e+09</td>\n",
       "      <td>52.64</td>\n",
       "      <td>1.534407e+09</td>\n",
       "      <td>0.26</td>\n",
       "      <td>...</td>\n",
       "      <td>52.15</td>\n",
       "      <td>1.534407e+09</td>\n",
       "      <td>1.534392e+09</td>\n",
       "      <td>7.0</td>\n",
       "      <td>1.534442e+09</td>\n",
       "      <td>10.000</td>\n",
       "      <td>140.0</td>\n",
       "      <td>9.64</td>\n",
       "      <td>1.534439e+09</td>\n",
       "      <td>3.34</td>\n",
       "    </tr>\n",
       "    <tr>\n",
       "      <th>1</th>\n",
       "      <td>0</td>\n",
       "      <td>52.99</td>\n",
       "      <td>1.520721e+09</td>\n",
       "      <td>18.34</td>\n",
       "      <td>1.520773e+09</td>\n",
       "      <td>52.99</td>\n",
       "      <td>1.520721e+09</td>\n",
       "      <td>23.83</td>\n",
       "      <td>1.520672e+09</td>\n",
       "      <td>0.32</td>\n",
       "      <td>...</td>\n",
       "      <td>28.51</td>\n",
       "      <td>1.520669e+09</td>\n",
       "      <td>1.520662e+09</td>\n",
       "      <td>6.0</td>\n",
       "      <td>1.520707e+09</td>\n",
       "      <td>9.997</td>\n",
       "      <td>350.0</td>\n",
       "      <td>25.81</td>\n",
       "      <td>1.520744e+09</td>\n",
       "      <td>7.58</td>\n",
       "    </tr>\n",
       "    <tr>\n",
       "      <th>2</th>\n",
       "      <td>0</td>\n",
       "      <td>39.26</td>\n",
       "      <td>1.552857e+09</td>\n",
       "      <td>17.76</td>\n",
       "      <td>1.552895e+09</td>\n",
       "      <td>39.26</td>\n",
       "      <td>1.552857e+09</td>\n",
       "      <td>11.29</td>\n",
       "      <td>1.552826e+09</td>\n",
       "      <td>0.43</td>\n",
       "      <td>...</td>\n",
       "      <td>17.73</td>\n",
       "      <td>1.552830e+09</td>\n",
       "      <td>1.552802e+09</td>\n",
       "      <td>4.0</td>\n",
       "      <td>1.552851e+09</td>\n",
       "      <td>10.000</td>\n",
       "      <td>226.0</td>\n",
       "      <td>5.97</td>\n",
       "      <td>1.552820e+09</td>\n",
       "      <td>3.35</td>\n",
       "    </tr>\n",
       "    <tr>\n",
       "      <th>3</th>\n",
       "      <td>0</td>\n",
       "      <td>103.94</td>\n",
       "      <td>1.534114e+09</td>\n",
       "      <td>69.55</td>\n",
       "      <td>1.534159e+09</td>\n",
       "      <td>103.94</td>\n",
       "      <td>1.534114e+09</td>\n",
       "      <td>66.11</td>\n",
       "      <td>1.534073e+09</td>\n",
       "      <td>0.00</td>\n",
       "      <td>...</td>\n",
       "      <td>65.62</td>\n",
       "      <td>1.534073e+09</td>\n",
       "      <td>1.534054e+09</td>\n",
       "      <td>9.0</td>\n",
       "      <td>1.534100e+09</td>\n",
       "      <td>10.000</td>\n",
       "      <td>165.0</td>\n",
       "      <td>23.20</td>\n",
       "      <td>1.534054e+09</td>\n",
       "      <td>9.97</td>\n",
       "    </tr>\n",
       "    <tr>\n",
       "      <th>4</th>\n",
       "      <td>0</td>\n",
       "      <td>82.61</td>\n",
       "      <td>1.530122e+09</td>\n",
       "      <td>72.26</td>\n",
       "      <td>1.530183e+09</td>\n",
       "      <td>82.61</td>\n",
       "      <td>1.530122e+09</td>\n",
       "      <td>66.90</td>\n",
       "      <td>1.530090e+09</td>\n",
       "      <td>0.55</td>\n",
       "      <td>...</td>\n",
       "      <td>65.59</td>\n",
       "      <td>1.530090e+09</td>\n",
       "      <td>1.530072e+09</td>\n",
       "      <td>8.0</td>\n",
       "      <td>1.530122e+09</td>\n",
       "      <td>9.997</td>\n",
       "      <td>203.0</td>\n",
       "      <td>21.09</td>\n",
       "      <td>1.530133e+09</td>\n",
       "      <td>5.38</td>\n",
       "    </tr>\n",
       "  </tbody>\n",
       "</table>\n",
       "<p>5 rows × 41 columns</p>\n",
       "</div>"
      ],
      "text/plain": [
       "   Unnamed: 0  apparentTemperatureHigh  apparentTemperatureHighTime  \\\n",
       "0           0                    83.24                 1.534455e+09   \n",
       "1           0                    52.99                 1.520721e+09   \n",
       "2           0                    39.26                 1.552857e+09   \n",
       "3           0                   103.94                 1.534114e+09   \n",
       "4           0                    82.61                 1.530122e+09   \n",
       "\n",
       "   apparentTemperatureLow  apparentTemperatureLowTime  apparentTemperatureMax  \\\n",
       "0                   67.04                1.534500e+09                   83.24   \n",
       "1                   18.34                1.520773e+09                   52.99   \n",
       "2                   17.76                1.552895e+09                   39.26   \n",
       "3                   69.55                1.534159e+09                  103.94   \n",
       "4                   72.26                1.530183e+09                   82.61   \n",
       "\n",
       "   apparentTemperatureMaxTime  apparentTemperatureMin  \\\n",
       "0                1.534455e+09                   52.64   \n",
       "1                1.520721e+09                   23.83   \n",
       "2                1.552857e+09                   11.29   \n",
       "3                1.534114e+09                   66.11   \n",
       "4                1.530122e+09                   66.90   \n",
       "\n",
       "   apparentTemperatureMinTime  cloudCover    ...      temperatureMin  \\\n",
       "0                1.534407e+09        0.26    ...               52.15   \n",
       "1                1.520672e+09        0.32    ...               28.51   \n",
       "2                1.552826e+09        0.43    ...               17.73   \n",
       "3                1.534073e+09        0.00    ...               65.62   \n",
       "4                1.530090e+09        0.55    ...               65.59   \n",
       "\n",
       "   temperatureMinTime          time  uvIndex   uvIndexTime  visibility  \\\n",
       "0        1.534407e+09  1.534392e+09      7.0  1.534442e+09      10.000   \n",
       "1        1.520669e+09  1.520662e+09      6.0  1.520707e+09       9.997   \n",
       "2        1.552830e+09  1.552802e+09      4.0  1.552851e+09      10.000   \n",
       "3        1.534073e+09  1.534054e+09      9.0  1.534100e+09      10.000   \n",
       "4        1.530090e+09  1.530072e+09      8.0  1.530122e+09       9.997   \n",
       "\n",
       "   windBearing  windGust  windGustTime  windSpeed  \n",
       "0        140.0      9.64  1.534439e+09       3.34  \n",
       "1        350.0     25.81  1.520744e+09       7.58  \n",
       "2        226.0      5.97  1.552820e+09       3.35  \n",
       "3        165.0     23.20  1.534054e+09       9.97  \n",
       "4        203.0     21.09  1.530133e+09       5.38  \n",
       "\n",
       "[5 rows x 41 columns]"
      ]
     },
     "execution_count": 15,
     "metadata": {},
     "output_type": "execute_result"
    }
   ],
   "source": [
    "weather_dataframe.head()"
   ]
  },
  {
   "cell_type": "markdown",
   "metadata": {},
   "source": [
    "- Let us drop the first unnecessary column with all zero/index values from both the data frames"
   ]
  },
  {
   "cell_type": "code",
   "execution_count": 16,
   "metadata": {},
   "outputs": [],
   "source": [
    "lat_long_timestamp = lat_long_timestamp.drop(lat_long_timestamp.columns[0], axis=1)\n",
    "weather_dataframe = weather_dataframe.drop(weather_dataframe.columns[0], axis=1)"
   ]
  },
  {
   "cell_type": "markdown",
   "metadata": {},
   "source": [
    "- Let us drop the rows in the weather dataframe that have NaN/null values in all the rows. "
   ]
  },
  {
   "cell_type": "code",
   "execution_count": 17,
   "metadata": {},
   "outputs": [],
   "source": [
    "weather_dataframe = weather_dataframe.dropna(how='all')"
   ]
  },
  {
   "cell_type": "code",
   "execution_count": 18,
   "metadata": {},
   "outputs": [],
   "source": [
    "weather_dataframe = weather_dataframe.fillna(weather_dataframe.median())"
   ]
  },
  {
   "cell_type": "markdown",
   "metadata": {},
   "source": [
    "- Let us join the lat_long_timestamp & the weather_dataframe together on index (Inner Join) to obtain a complete dataset including the 3-tuples (latitude, longitude, timestamp) & their corresponding weather features obtained from the API"
   ]
  },
  {
   "cell_type": "code",
   "execution_count": 19,
   "metadata": {},
   "outputs": [],
   "source": [
    "final_df = pd.merge(lat_long_timestamp, weather_dataframe, left_index=True, right_index=True)"
   ]
  },
  {
   "cell_type": "markdown",
   "metadata": {},
   "source": [
    "- Let's check the NaN values in each column. \n",
    "\n",
    "- NOTE: One better way to handle columns with a small number of NaN values is to impute them by one of the folowing ways:\n",
    "       - Mean/Median/Mode\n",
    "       - KNN Imputation\n",
    "       - Predictive Imputation\n",
    "- For the purposes of our dataset, we will impute the median value for columns that have any NaN values\n"
   ]
  },
  {
   "cell_type": "code",
   "execution_count": 20,
   "metadata": {},
   "outputs": [],
   "source": [
    "# Features selected from the training set\n",
    "\n",
    "features = ['apparentTemperatureHigh', 'apparentTemperatureLow',\n",
    "       'apparentTemperatureMax', 'apparentTemperatureMin', 'dewPoint',\n",
    "       'sunriseTime', 'temperatureHigh', 'temperatureLow', 'temperatureMax',\n",
    "       'temperatureMin', 'time', 'uvIndex']"
   ]
  },
  {
   "cell_type": "code",
   "execution_count": 21,
   "metadata": {},
   "outputs": [],
   "source": [
    "features.append(\"Season\")"
   ]
  },
  {
   "cell_type": "code",
   "execution_count": 22,
   "metadata": {},
   "outputs": [
    {
     "data": {
      "text/plain": [
       "['apparentTemperatureHigh',\n",
       " 'apparentTemperatureLow',\n",
       " 'apparentTemperatureMax',\n",
       " 'apparentTemperatureMin',\n",
       " 'dewPoint',\n",
       " 'sunriseTime',\n",
       " 'temperatureHigh',\n",
       " 'temperatureLow',\n",
       " 'temperatureMax',\n",
       " 'temperatureMin',\n",
       " 'time',\n",
       " 'uvIndex',\n",
       " 'Season']"
      ]
     },
     "execution_count": 22,
     "metadata": {},
     "output_type": "execute_result"
    }
   ],
   "source": [
    "features"
   ]
  },
  {
   "cell_type": "code",
   "execution_count": 23,
   "metadata": {},
   "outputs": [],
   "source": [
    "final_df_2 = final_df[features]"
   ]
  },
  {
   "cell_type": "code",
   "execution_count": 24,
   "metadata": {
    "scrolled": true
   },
   "outputs": [],
   "source": [
    "y_test = final_df_2[\"Season\"]\n",
    "x_test = final_df_2.loc[:, final_df_2.columns != 'Season']"
   ]
  },
  {
   "cell_type": "code",
   "execution_count": 25,
   "metadata": {},
   "outputs": [],
   "source": [
    "x_test = x_test.fillna(x_test.median())"
   ]
  },
  {
   "cell_type": "markdown",
   "metadata": {},
   "source": [
    "- Now, let us do preprocessing of our test dataset using the preprocessing module from the scikit-learn library."
   ]
  },
  {
   "cell_type": "code",
   "execution_count": 26,
   "metadata": {},
   "outputs": [],
   "source": [
    "from sklearn import preprocessing\n",
    "\n",
    "#Scaling data..\n",
    "\n",
    "scaler = preprocessing.MinMaxScaler()\n",
    "scaler.fit(x_test)\n",
    "x_test = pd.DataFrame(scaler.transform(x_test), index=x_test.index, columns=x_test.columns)\n"
   ]
  },
  {
   "cell_type": "code",
   "execution_count": 27,
   "metadata": {},
   "outputs": [],
   "source": [
    "filename = 'RandomForestSeasonClassifier.sav'\n",
    "\n",
    "RF_Classifier_model = pickle.load(open(filename, 'rb'))\n",
    "result = RF_Classifier_model.score(x_test, y_test)"
   ]
  },
  {
   "cell_type": "code",
   "execution_count": 28,
   "metadata": {},
   "outputs": [
    {
     "name": "stdout",
     "output_type": "stream",
     "text": [
      "Random Classifier Accuracy Percentage: 98.50746268656717%\n"
     ]
    }
   ],
   "source": [
    "print(\"Random Classifier Accuracy Percentage: \" +str(result*100) + \"%\")"
   ]
  }
 ],
 "metadata": {
  "kernelspec": {
   "display_name": "Python 3",
   "language": "python",
   "name": "python3"
  },
  "language_info": {
   "codemirror_mode": {
    "name": "ipython",
    "version": 3
   },
   "file_extension": ".py",
   "mimetype": "text/x-python",
   "name": "python",
   "nbconvert_exporter": "python",
   "pygments_lexer": "ipython3",
   "version": "3.6.5"
  }
 },
 "nbformat": 4,
 "nbformat_minor": 2
}
